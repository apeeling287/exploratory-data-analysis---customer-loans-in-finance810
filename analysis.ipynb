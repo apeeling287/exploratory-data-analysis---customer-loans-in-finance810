{
 "cells": [
  {
   "cell_type": "code",
   "execution_count": 368,
   "metadata": {},
   "outputs": [],
   "source": [
    "import pandas as pd\n",
    "pd.options.mode.chained_assignment = None "
   ]
  },
  {
   "cell_type": "code",
   "execution_count": 369,
   "metadata": {},
   "outputs": [],
   "source": [
    "## TASK 1 ###\n",
    "\n",
    "#read in csv with nulls removed \n",
    "df = pd.read_csv(\"imputed.csv\", index_col=0)"
   ]
  },
  {
   "cell_type": "code",
   "execution_count": 370,
   "metadata": {},
   "outputs": [
    {
     "name": "stdout",
     "output_type": "stream",
     "text": [
      "<class 'pandas.core.frame.DataFrame'>\n",
      "Int64Index: 52037 entries, 0 to 54230\n",
      "Data columns (total 39 columns):\n",
      " #   Column                      Non-Null Count  Dtype  \n",
      "---  ------                      --------------  -----  \n",
      " 0   id                          52037 non-null  int64  \n",
      " 1   member_id                   52037 non-null  int64  \n",
      " 2   loan_amount                 52037 non-null  int64  \n",
      " 3   funded_amount               52037 non-null  float64\n",
      " 4   funded_amount_inv           52037 non-null  float64\n",
      " 5   term                        52037 non-null  object \n",
      " 6   int_rate                    52037 non-null  float64\n",
      " 7   instalment                  52037 non-null  float64\n",
      " 8   grade                       52037 non-null  object \n",
      " 9   sub_grade                   52037 non-null  object \n",
      " 10  employment_length           52037 non-null  object \n",
      " 11  home_ownership              52037 non-null  object \n",
      " 12  annual_inc                  52037 non-null  float64\n",
      " 13  verification_status         52037 non-null  object \n",
      " 14  issue_date                  52037 non-null  object \n",
      " 15  loan_status                 52037 non-null  object \n",
      " 16  payment_plan                52037 non-null  object \n",
      " 17  purpose                     52037 non-null  object \n",
      " 18  dti                         52037 non-null  float64\n",
      " 19  delinq_2yrs                 52037 non-null  int64  \n",
      " 20  earliest_credit_line        52037 non-null  object \n",
      " 21  inq_last_6mths              52037 non-null  int64  \n",
      " 22  open_accounts               52037 non-null  int64  \n",
      " 23  total_accounts              52037 non-null  int64  \n",
      " 24  out_prncp                   52037 non-null  float64\n",
      " 25  out_prncp_inv               52037 non-null  float64\n",
      " 26  total_payment               52037 non-null  float64\n",
      " 27  total_payment_inv           52037 non-null  float64\n",
      " 28  total_rec_prncp             52037 non-null  float64\n",
      " 29  total_rec_int               52037 non-null  float64\n",
      " 30  total_rec_late_fee          52037 non-null  float64\n",
      " 31  recoveries                  52037 non-null  float64\n",
      " 32  collection_recovery_fee     52037 non-null  float64\n",
      " 33  last_payment_date           52037 non-null  object \n",
      " 34  last_payment_amount         52037 non-null  float64\n",
      " 35  last_credit_pull_date       52037 non-null  object \n",
      " 36  collections_12_mths_ex_med  52037 non-null  float64\n",
      " 37  policy_code                 52037 non-null  int64  \n",
      " 38  application_type            52037 non-null  object \n",
      "dtypes: float64(17), int64(8), object(14)\n",
      "memory usage: 15.9+ MB\n"
     ]
    }
   ],
   "source": [
    "df.info()"
   ]
  },
  {
   "cell_type": "code",
   "execution_count": 371,
   "metadata": {},
   "outputs": [],
   "source": [
    "df[\"term\"] = df[\"term\"].str.replace(\"months\", \"\")\n",
    "df[\"term\"] = pd.to_numeric(df[\"term\"], errors='coerce')"
   ]
  },
  {
   "cell_type": "code",
   "execution_count": 372,
   "metadata": {},
   "outputs": [],
   "source": [
    "## what has been recovered vs what is left to be recovered "
   ]
  },
  {
   "cell_type": "code",
   "execution_count": 373,
   "metadata": {},
   "outputs": [
    {
     "name": "stdout",
     "output_type": "stream",
     "text": [
      "Occurences of 'Fully Paid': 27224\n"
     ]
    }
   ],
   "source": [
    "count_fully_paid = len(df[df['loan_status'].str.contains('Fully Paid')])\n",
    "print(f\"Occurences of 'Fully Paid': {count_fully_paid}\")"
   ]
  },
  {
   "cell_type": "code",
   "execution_count": 374,
   "metadata": {},
   "outputs": [
    {
     "data": {
      "text/plain": [
       "52037"
      ]
     },
     "execution_count": 374,
     "metadata": {},
     "output_type": "execute_result"
    }
   ],
   "source": [
    "total_rows = len(df)\n",
    "total_rows"
   ]
  },
  {
   "cell_type": "code",
   "execution_count": 375,
   "metadata": {},
   "outputs": [
    {
     "name": "stdout",
     "output_type": "stream",
     "text": [
      "percentage of loans that have been fully recovered: 52.316620865922324%\n"
     ]
    }
   ],
   "source": [
    "percentage_recovered = count_fully_paid/total_rows*100\n",
    "print(f\"percentage of loans that have been fully recovered: {percentage_recovered}%\")"
   ]
  },
  {
   "cell_type": "code",
   "execution_count": 376,
   "metadata": {},
   "outputs": [],
   "source": [
    "##total amount to be paid over the loans term = term*instalment "
   ]
  },
  {
   "cell_type": "code",
   "execution_count": 377,
   "metadata": {},
   "outputs": [],
   "source": [
    "#remove rows which have been fully paid \n",
    "df_removed_fully_paid = df[df[\"loan_status\"].str.contains(\"Fully Paid\") == False]\n",
    "df_removed_fully_paid.to_csv(\"removed_fully_paid_rows.csv\")\n"
   ]
  },
  {
   "cell_type": "code",
   "execution_count": 378,
   "metadata": {},
   "outputs": [],
   "source": [
    "# **loan_amount**: amount of loan the applicant received\n",
    "# amount paid so far = total_payment \n",
    "# term * instalment = total remaining to pay \n",
    "# remove months from term column "
   ]
  },
  {
   "cell_type": "code",
   "execution_count": 379,
   "metadata": {},
   "outputs": [
    {
     "name": "stdout",
     "output_type": "stream",
     "text": [
      "<class 'pandas.core.frame.DataFrame'>\n",
      "RangeIndex: 24813 entries, 0 to 24812\n",
      "Data columns (total 40 columns):\n",
      " #   Column                      Non-Null Count  Dtype  \n",
      "---  ------                      --------------  -----  \n",
      " 0   Unnamed: 0                  24813 non-null  int64  \n",
      " 1   id                          24813 non-null  int64  \n",
      " 2   member_id                   24813 non-null  int64  \n",
      " 3   loan_amount                 24813 non-null  int64  \n",
      " 4   funded_amount               24813 non-null  float64\n",
      " 5   funded_amount_inv           24813 non-null  float64\n",
      " 6   term                        24813 non-null  int64  \n",
      " 7   int_rate                    24813 non-null  float64\n",
      " 8   instalment                  24813 non-null  float64\n",
      " 9   grade                       24813 non-null  object \n",
      " 10  sub_grade                   24813 non-null  object \n",
      " 11  employment_length           24813 non-null  object \n",
      " 12  home_ownership              24813 non-null  object \n",
      " 13  annual_inc                  24813 non-null  float64\n",
      " 14  verification_status         24813 non-null  object \n",
      " 15  issue_date                  24813 non-null  object \n",
      " 16  loan_status                 24813 non-null  object \n",
      " 17  payment_plan                24813 non-null  object \n",
      " 18  purpose                     24813 non-null  object \n",
      " 19  dti                         24813 non-null  float64\n",
      " 20  delinq_2yrs                 24813 non-null  int64  \n",
      " 21  earliest_credit_line        24813 non-null  object \n",
      " 22  inq_last_6mths              24813 non-null  int64  \n",
      " 23  open_accounts               24813 non-null  int64  \n",
      " 24  total_accounts              24813 non-null  int64  \n",
      " 25  out_prncp                   24813 non-null  float64\n",
      " 26  out_prncp_inv               24813 non-null  float64\n",
      " 27  total_payment               24813 non-null  float64\n",
      " 28  total_payment_inv           24813 non-null  float64\n",
      " 29  total_rec_prncp             24813 non-null  float64\n",
      " 30  total_rec_int               24813 non-null  float64\n",
      " 31  total_rec_late_fee          24813 non-null  float64\n",
      " 32  recoveries                  24813 non-null  float64\n",
      " 33  collection_recovery_fee     24813 non-null  float64\n",
      " 34  last_payment_date           24813 non-null  object \n",
      " 35  last_payment_amount         24813 non-null  float64\n",
      " 36  last_credit_pull_date       24813 non-null  object \n",
      " 37  collections_12_mths_ex_med  24813 non-null  float64\n",
      " 38  policy_code                 24813 non-null  int64  \n",
      " 39  application_type            24813 non-null  object \n",
      "dtypes: float64(17), int64(10), object(13)\n",
      "memory usage: 7.6+ MB\n"
     ]
    }
   ],
   "source": [
    "#read in csv containing only members who have not fully repaid their loan \n",
    "df = pd.read_csv(\"removed_fully_paid_rows.csv\")\n",
    "df.info()"
   ]
  },
  {
   "cell_type": "code",
   "execution_count": 380,
   "metadata": {},
   "outputs": [
    {
     "name": "stdout",
     "output_type": "stream",
     "text": [
      "int64\n"
     ]
    },
    {
     "data": {
      "text/plain": [
       "0        36\n",
       "1        36\n",
       "2        36\n",
       "3        36\n",
       "4        36\n",
       "         ..\n",
       "24808    36\n",
       "24809    36\n",
       "24810    36\n",
       "24811    36\n",
       "24812    36\n",
       "Name: term, Length: 24813, dtype: int64"
      ]
     },
     "execution_count": 380,
     "metadata": {},
     "output_type": "execute_result"
    }
   ],
   "source": [
    "#convert term column to numeric data type \n",
    "df[\"term\"] = pd.to_numeric(df[\"term\"], errors='coerce')\n",
    "\n",
    "print(df[\"term\"].dtype)\n",
    "df[\"term\"]"
   ]
  },
  {
   "cell_type": "code",
   "execution_count": 381,
   "metadata": {},
   "outputs": [
    {
     "data": {
      "text/html": [
       "<div>\n",
       "<style scoped>\n",
       "    .dataframe tbody tr th:only-of-type {\n",
       "        vertical-align: middle;\n",
       "    }\n",
       "\n",
       "    .dataframe tbody tr th {\n",
       "        vertical-align: top;\n",
       "    }\n",
       "\n",
       "    .dataframe thead th {\n",
       "        text-align: right;\n",
       "    }\n",
       "</style>\n",
       "<table border=\"1\" class=\"dataframe\">\n",
       "  <thead>\n",
       "    <tr style=\"text-align: right;\">\n",
       "      <th></th>\n",
       "      <th>Unnamed: 0</th>\n",
       "      <th>id</th>\n",
       "      <th>member_id</th>\n",
       "      <th>loan_amount</th>\n",
       "      <th>funded_amount</th>\n",
       "      <th>funded_amount_inv</th>\n",
       "      <th>term</th>\n",
       "      <th>int_rate</th>\n",
       "      <th>instalment</th>\n",
       "      <th>grade</th>\n",
       "      <th>...</th>\n",
       "      <th>total_rec_late_fee</th>\n",
       "      <th>recoveries</th>\n",
       "      <th>collection_recovery_fee</th>\n",
       "      <th>last_payment_date</th>\n",
       "      <th>last_payment_amount</th>\n",
       "      <th>last_credit_pull_date</th>\n",
       "      <th>collections_12_mths_ex_med</th>\n",
       "      <th>policy_code</th>\n",
       "      <th>application_type</th>\n",
       "      <th>total_owed</th>\n",
       "    </tr>\n",
       "  </thead>\n",
       "  <tbody>\n",
       "    <tr>\n",
       "      <th>0</th>\n",
       "      <td>0</td>\n",
       "      <td>38676116</td>\n",
       "      <td>41461848</td>\n",
       "      <td>8000</td>\n",
       "      <td>8000.0</td>\n",
       "      <td>8000.0</td>\n",
       "      <td>36</td>\n",
       "      <td>7.49</td>\n",
       "      <td>248.82</td>\n",
       "      <td>A</td>\n",
       "      <td>...</td>\n",
       "      <td>0.0</td>\n",
       "      <td>0.00</td>\n",
       "      <td>0.00</td>\n",
       "      <td>2022-01-01</td>\n",
       "      <td>248.82</td>\n",
       "      <td>2022-01-01</td>\n",
       "      <td>0.0</td>\n",
       "      <td>1</td>\n",
       "      <td>INDIVIDUAL</td>\n",
       "      <td>8957.52</td>\n",
       "    </tr>\n",
       "    <tr>\n",
       "      <th>1</th>\n",
       "      <td>1</td>\n",
       "      <td>38656203</td>\n",
       "      <td>41440010</td>\n",
       "      <td>13200</td>\n",
       "      <td>13200.0</td>\n",
       "      <td>13200.0</td>\n",
       "      <td>36</td>\n",
       "      <td>6.99</td>\n",
       "      <td>407.52</td>\n",
       "      <td>A</td>\n",
       "      <td>...</td>\n",
       "      <td>0.0</td>\n",
       "      <td>0.00</td>\n",
       "      <td>0.00</td>\n",
       "      <td>2022-01-01</td>\n",
       "      <td>407.52</td>\n",
       "      <td>2022-01-01</td>\n",
       "      <td>0.0</td>\n",
       "      <td>1</td>\n",
       "      <td>INDIVIDUAL</td>\n",
       "      <td>14670.72</td>\n",
       "    </tr>\n",
       "    <tr>\n",
       "      <th>2</th>\n",
       "      <td>4</td>\n",
       "      <td>38656121</td>\n",
       "      <td>41439927</td>\n",
       "      <td>15000</td>\n",
       "      <td>15000.0</td>\n",
       "      <td>15000.0</td>\n",
       "      <td>36</td>\n",
       "      <td>6.03</td>\n",
       "      <td>456.54</td>\n",
       "      <td>A</td>\n",
       "      <td>...</td>\n",
       "      <td>0.0</td>\n",
       "      <td>0.00</td>\n",
       "      <td>0.00</td>\n",
       "      <td>2022-01-01</td>\n",
       "      <td>456.54</td>\n",
       "      <td>2022-01-01</td>\n",
       "      <td>0.0</td>\n",
       "      <td>1</td>\n",
       "      <td>INDIVIDUAL</td>\n",
       "      <td>16435.44</td>\n",
       "    </tr>\n",
       "    <tr>\n",
       "      <th>3</th>\n",
       "      <td>5</td>\n",
       "      <td>38656111</td>\n",
       "      <td>41439917</td>\n",
       "      <td>2525</td>\n",
       "      <td>2525.0</td>\n",
       "      <td>2525.0</td>\n",
       "      <td>36</td>\n",
       "      <td>11.44</td>\n",
       "      <td>83.20</td>\n",
       "      <td>B</td>\n",
       "      <td>...</td>\n",
       "      <td>0.0</td>\n",
       "      <td>0.00</td>\n",
       "      <td>0.00</td>\n",
       "      <td>2022-01-01</td>\n",
       "      <td>91.39</td>\n",
       "      <td>2022-01-01</td>\n",
       "      <td>0.0</td>\n",
       "      <td>1</td>\n",
       "      <td>INDIVIDUAL</td>\n",
       "      <td>2995.20</td>\n",
       "    </tr>\n",
       "    <tr>\n",
       "      <th>4</th>\n",
       "      <td>7</td>\n",
       "      <td>38656067</td>\n",
       "      <td>41439872</td>\n",
       "      <td>26500</td>\n",
       "      <td>26500.0</td>\n",
       "      <td>26200.0</td>\n",
       "      <td>36</td>\n",
       "      <td>19.99</td>\n",
       "      <td>701.95</td>\n",
       "      <td>E</td>\n",
       "      <td>...</td>\n",
       "      <td>0.0</td>\n",
       "      <td>0.00</td>\n",
       "      <td>0.00</td>\n",
       "      <td>2021-08-01</td>\n",
       "      <td>701.95</td>\n",
       "      <td>2022-01-01</td>\n",
       "      <td>0.0</td>\n",
       "      <td>1</td>\n",
       "      <td>INDIVIDUAL</td>\n",
       "      <td>25270.20</td>\n",
       "    </tr>\n",
       "    <tr>\n",
       "      <th>...</th>\n",
       "      <td>...</td>\n",
       "      <td>...</td>\n",
       "      <td>...</td>\n",
       "      <td>...</td>\n",
       "      <td>...</td>\n",
       "      <td>...</td>\n",
       "      <td>...</td>\n",
       "      <td>...</td>\n",
       "      <td>...</td>\n",
       "      <td>...</td>\n",
       "      <td>...</td>\n",
       "      <td>...</td>\n",
       "      <td>...</td>\n",
       "      <td>...</td>\n",
       "      <td>...</td>\n",
       "      <td>...</td>\n",
       "      <td>...</td>\n",
       "      <td>...</td>\n",
       "      <td>...</td>\n",
       "      <td>...</td>\n",
       "      <td>...</td>\n",
       "    </tr>\n",
       "    <tr>\n",
       "      <th>24808</th>\n",
       "      <td>54190</td>\n",
       "      <td>123133</td>\n",
       "      <td>114358</td>\n",
       "      <td>11050</td>\n",
       "      <td>11050.0</td>\n",
       "      <td>1175.0</td>\n",
       "      <td>36</td>\n",
       "      <td>15.96</td>\n",
       "      <td>388.28</td>\n",
       "      <td>F</td>\n",
       "      <td>...</td>\n",
       "      <td>0.0</td>\n",
       "      <td>0.00</td>\n",
       "      <td>0.00</td>\n",
       "      <td>2014-05-01</td>\n",
       "      <td>388.27</td>\n",
       "      <td>2022-01-01</td>\n",
       "      <td>0.0</td>\n",
       "      <td>1</td>\n",
       "      <td>INDIVIDUAL</td>\n",
       "      <td>13978.08</td>\n",
       "    </tr>\n",
       "    <tr>\n",
       "      <th>24809</th>\n",
       "      <td>54194</td>\n",
       "      <td>113179</td>\n",
       "      <td>113093</td>\n",
       "      <td>1000</td>\n",
       "      <td>1000.0</td>\n",
       "      <td>950.0</td>\n",
       "      <td>36</td>\n",
       "      <td>10.59</td>\n",
       "      <td>32.55</td>\n",
       "      <td>C</td>\n",
       "      <td>...</td>\n",
       "      <td>0.0</td>\n",
       "      <td>21.29</td>\n",
       "      <td>0.23</td>\n",
       "      <td>2015-05-01</td>\n",
       "      <td>32.55</td>\n",
       "      <td>2015-10-01</td>\n",
       "      <td>0.0</td>\n",
       "      <td>1</td>\n",
       "      <td>INDIVIDUAL</td>\n",
       "      <td>1171.80</td>\n",
       "    </tr>\n",
       "    <tr>\n",
       "      <th>24810</th>\n",
       "      <td>54198</td>\n",
       "      <td>111227</td>\n",
       "      <td>111223</td>\n",
       "      <td>20000</td>\n",
       "      <td>20000.0</td>\n",
       "      <td>2800.0</td>\n",
       "      <td>36</td>\n",
       "      <td>13.43</td>\n",
       "      <td>678.08</td>\n",
       "      <td>E</td>\n",
       "      <td>...</td>\n",
       "      <td>0.0</td>\n",
       "      <td>0.00</td>\n",
       "      <td>0.00</td>\n",
       "      <td>2016-02-01</td>\n",
       "      <td>678.08</td>\n",
       "      <td>2022-01-01</td>\n",
       "      <td>0.0</td>\n",
       "      <td>1</td>\n",
       "      <td>INDIVIDUAL</td>\n",
       "      <td>24410.88</td>\n",
       "    </tr>\n",
       "    <tr>\n",
       "      <th>24811</th>\n",
       "      <td>54212</td>\n",
       "      <td>94406</td>\n",
       "      <td>94385</td>\n",
       "      <td>6725</td>\n",
       "      <td>12000.0</td>\n",
       "      <td>825.0</td>\n",
       "      <td>36</td>\n",
       "      <td>13.12</td>\n",
       "      <td>226.98</td>\n",
       "      <td>D</td>\n",
       "      <td>...</td>\n",
       "      <td>0.0</td>\n",
       "      <td>0.00</td>\n",
       "      <td>0.00</td>\n",
       "      <td>2015-04-01</td>\n",
       "      <td>42.11</td>\n",
       "      <td>2022-01-01</td>\n",
       "      <td>0.0</td>\n",
       "      <td>1</td>\n",
       "      <td>INDIVIDUAL</td>\n",
       "      <td>8171.28</td>\n",
       "    </tr>\n",
       "    <tr>\n",
       "      <th>24812</th>\n",
       "      <td>54230</td>\n",
       "      <td>72323</td>\n",
       "      <td>70694</td>\n",
       "      <td>5000</td>\n",
       "      <td>5000.0</td>\n",
       "      <td>350.0</td>\n",
       "      <td>36</td>\n",
       "      <td>11.54</td>\n",
       "      <td>164.98</td>\n",
       "      <td>C</td>\n",
       "      <td>...</td>\n",
       "      <td>0.0</td>\n",
       "      <td>182.27</td>\n",
       "      <td>1.84</td>\n",
       "      <td>2014-03-01</td>\n",
       "      <td>164.97</td>\n",
       "      <td>2015-01-01</td>\n",
       "      <td>0.0</td>\n",
       "      <td>1</td>\n",
       "      <td>INDIVIDUAL</td>\n",
       "      <td>5939.28</td>\n",
       "    </tr>\n",
       "  </tbody>\n",
       "</table>\n",
       "<p>24813 rows × 41 columns</p>\n",
       "</div>"
      ],
      "text/plain": [
       "       Unnamed: 0        id  member_id  loan_amount  funded_amount  \\\n",
       "0               0  38676116   41461848         8000         8000.0   \n",
       "1               1  38656203   41440010        13200        13200.0   \n",
       "2               4  38656121   41439927        15000        15000.0   \n",
       "3               5  38656111   41439917         2525         2525.0   \n",
       "4               7  38656067   41439872        26500        26500.0   \n",
       "...           ...       ...        ...          ...            ...   \n",
       "24808       54190    123133     114358        11050        11050.0   \n",
       "24809       54194    113179     113093         1000         1000.0   \n",
       "24810       54198    111227     111223        20000        20000.0   \n",
       "24811       54212     94406      94385         6725        12000.0   \n",
       "24812       54230     72323      70694         5000         5000.0   \n",
       "\n",
       "       funded_amount_inv  term  int_rate  instalment grade  ...  \\\n",
       "0                 8000.0    36      7.49      248.82     A  ...   \n",
       "1                13200.0    36      6.99      407.52     A  ...   \n",
       "2                15000.0    36      6.03      456.54     A  ...   \n",
       "3                 2525.0    36     11.44       83.20     B  ...   \n",
       "4                26200.0    36     19.99      701.95     E  ...   \n",
       "...                  ...   ...       ...         ...   ...  ...   \n",
       "24808             1175.0    36     15.96      388.28     F  ...   \n",
       "24809              950.0    36     10.59       32.55     C  ...   \n",
       "24810             2800.0    36     13.43      678.08     E  ...   \n",
       "24811              825.0    36     13.12      226.98     D  ...   \n",
       "24812              350.0    36     11.54      164.98     C  ...   \n",
       "\n",
       "      total_rec_late_fee recoveries collection_recovery_fee  \\\n",
       "0                    0.0       0.00                    0.00   \n",
       "1                    0.0       0.00                    0.00   \n",
       "2                    0.0       0.00                    0.00   \n",
       "3                    0.0       0.00                    0.00   \n",
       "4                    0.0       0.00                    0.00   \n",
       "...                  ...        ...                     ...   \n",
       "24808                0.0       0.00                    0.00   \n",
       "24809                0.0      21.29                    0.23   \n",
       "24810                0.0       0.00                    0.00   \n",
       "24811                0.0       0.00                    0.00   \n",
       "24812                0.0     182.27                    1.84   \n",
       "\n",
       "       last_payment_date last_payment_amount last_credit_pull_date  \\\n",
       "0             2022-01-01              248.82            2022-01-01   \n",
       "1             2022-01-01              407.52            2022-01-01   \n",
       "2             2022-01-01              456.54            2022-01-01   \n",
       "3             2022-01-01               91.39            2022-01-01   \n",
       "4             2021-08-01              701.95            2022-01-01   \n",
       "...                  ...                 ...                   ...   \n",
       "24808         2014-05-01              388.27            2022-01-01   \n",
       "24809         2015-05-01               32.55            2015-10-01   \n",
       "24810         2016-02-01              678.08            2022-01-01   \n",
       "24811         2015-04-01               42.11            2022-01-01   \n",
       "24812         2014-03-01              164.97            2015-01-01   \n",
       "\n",
       "      collections_12_mths_ex_med policy_code application_type  total_owed  \n",
       "0                            0.0           1       INDIVIDUAL     8957.52  \n",
       "1                            0.0           1       INDIVIDUAL    14670.72  \n",
       "2                            0.0           1       INDIVIDUAL    16435.44  \n",
       "3                            0.0           1       INDIVIDUAL     2995.20  \n",
       "4                            0.0           1       INDIVIDUAL    25270.20  \n",
       "...                          ...         ...              ...         ...  \n",
       "24808                        0.0           1       INDIVIDUAL    13978.08  \n",
       "24809                        0.0           1       INDIVIDUAL     1171.80  \n",
       "24810                        0.0           1       INDIVIDUAL    24410.88  \n",
       "24811                        0.0           1       INDIVIDUAL     8171.28  \n",
       "24812                        0.0           1       INDIVIDUAL     5939.28  \n",
       "\n",
       "[24813 rows x 41 columns]"
      ]
     },
     "execution_count": 381,
     "metadata": {},
     "output_type": "execute_result"
    }
   ],
   "source": [
    "#total_to_pay column how much is left to pay over the loans term including interest \n",
    "df[\"total_owed\"] = df[\"term\"] * df[\"instalment\"]\n",
    "df\n"
   ]
  },
  {
   "cell_type": "code",
   "execution_count": 382,
   "metadata": {},
   "outputs": [
    {
     "data": {
      "text/html": [
       "<div>\n",
       "<style scoped>\n",
       "    .dataframe tbody tr th:only-of-type {\n",
       "        vertical-align: middle;\n",
       "    }\n",
       "\n",
       "    .dataframe tbody tr th {\n",
       "        vertical-align: top;\n",
       "    }\n",
       "\n",
       "    .dataframe thead th {\n",
       "        text-align: right;\n",
       "    }\n",
       "</style>\n",
       "<table border=\"1\" class=\"dataframe\">\n",
       "  <thead>\n",
       "    <tr style=\"text-align: right;\">\n",
       "      <th></th>\n",
       "      <th>Unnamed: 0</th>\n",
       "      <th>id</th>\n",
       "      <th>member_id</th>\n",
       "      <th>loan_amount</th>\n",
       "      <th>funded_amount</th>\n",
       "      <th>funded_amount_inv</th>\n",
       "      <th>term</th>\n",
       "      <th>int_rate</th>\n",
       "      <th>instalment</th>\n",
       "      <th>grade</th>\n",
       "      <th>...</th>\n",
       "      <th>recoveries</th>\n",
       "      <th>collection_recovery_fee</th>\n",
       "      <th>last_payment_date</th>\n",
       "      <th>last_payment_amount</th>\n",
       "      <th>last_credit_pull_date</th>\n",
       "      <th>collections_12_mths_ex_med</th>\n",
       "      <th>policy_code</th>\n",
       "      <th>application_type</th>\n",
       "      <th>total_owed</th>\n",
       "      <th>total_remaining_to_pay</th>\n",
       "    </tr>\n",
       "  </thead>\n",
       "  <tbody>\n",
       "    <tr>\n",
       "      <th>0</th>\n",
       "      <td>0</td>\n",
       "      <td>38676116</td>\n",
       "      <td>41461848</td>\n",
       "      <td>8000</td>\n",
       "      <td>8000.0</td>\n",
       "      <td>8000.0</td>\n",
       "      <td>36</td>\n",
       "      <td>7.49</td>\n",
       "      <td>248.82</td>\n",
       "      <td>A</td>\n",
       "      <td>...</td>\n",
       "      <td>0.00</td>\n",
       "      <td>0.00</td>\n",
       "      <td>2022-01-01</td>\n",
       "      <td>248.82</td>\n",
       "      <td>2022-01-01</td>\n",
       "      <td>0.0</td>\n",
       "      <td>1</td>\n",
       "      <td>INDIVIDUAL</td>\n",
       "      <td>8957.52</td>\n",
       "      <td>5975.01</td>\n",
       "    </tr>\n",
       "    <tr>\n",
       "      <th>1</th>\n",
       "      <td>1</td>\n",
       "      <td>38656203</td>\n",
       "      <td>41440010</td>\n",
       "      <td>13200</td>\n",
       "      <td>13200.0</td>\n",
       "      <td>13200.0</td>\n",
       "      <td>36</td>\n",
       "      <td>6.99</td>\n",
       "      <td>407.52</td>\n",
       "      <td>A</td>\n",
       "      <td>...</td>\n",
       "      <td>0.00</td>\n",
       "      <td>0.00</td>\n",
       "      <td>2022-01-01</td>\n",
       "      <td>407.52</td>\n",
       "      <td>2022-01-01</td>\n",
       "      <td>0.0</td>\n",
       "      <td>1</td>\n",
       "      <td>INDIVIDUAL</td>\n",
       "      <td>14670.72</td>\n",
       "      <td>9785.61</td>\n",
       "    </tr>\n",
       "    <tr>\n",
       "      <th>2</th>\n",
       "      <td>4</td>\n",
       "      <td>38656121</td>\n",
       "      <td>41439927</td>\n",
       "      <td>15000</td>\n",
       "      <td>15000.0</td>\n",
       "      <td>15000.0</td>\n",
       "      <td>36</td>\n",
       "      <td>6.03</td>\n",
       "      <td>456.54</td>\n",
       "      <td>A</td>\n",
       "      <td>...</td>\n",
       "      <td>0.00</td>\n",
       "      <td>0.00</td>\n",
       "      <td>2022-01-01</td>\n",
       "      <td>456.54</td>\n",
       "      <td>2022-01-01</td>\n",
       "      <td>0.0</td>\n",
       "      <td>1</td>\n",
       "      <td>INDIVIDUAL</td>\n",
       "      <td>16435.44</td>\n",
       "      <td>10961.98</td>\n",
       "    </tr>\n",
       "    <tr>\n",
       "      <th>3</th>\n",
       "      <td>5</td>\n",
       "      <td>38656111</td>\n",
       "      <td>41439917</td>\n",
       "      <td>2525</td>\n",
       "      <td>2525.0</td>\n",
       "      <td>2525.0</td>\n",
       "      <td>36</td>\n",
       "      <td>11.44</td>\n",
       "      <td>83.20</td>\n",
       "      <td>B</td>\n",
       "      <td>...</td>\n",
       "      <td>0.00</td>\n",
       "      <td>0.00</td>\n",
       "      <td>2022-01-01</td>\n",
       "      <td>91.39</td>\n",
       "      <td>2022-01-01</td>\n",
       "      <td>0.0</td>\n",
       "      <td>1</td>\n",
       "      <td>INDIVIDUAL</td>\n",
       "      <td>2995.20</td>\n",
       "      <td>2081.60</td>\n",
       "    </tr>\n",
       "    <tr>\n",
       "      <th>4</th>\n",
       "      <td>7</td>\n",
       "      <td>38656067</td>\n",
       "      <td>41439872</td>\n",
       "      <td>26500</td>\n",
       "      <td>26500.0</td>\n",
       "      <td>26200.0</td>\n",
       "      <td>36</td>\n",
       "      <td>19.99</td>\n",
       "      <td>701.95</td>\n",
       "      <td>E</td>\n",
       "      <td>...</td>\n",
       "      <td>0.00</td>\n",
       "      <td>0.00</td>\n",
       "      <td>2021-08-01</td>\n",
       "      <td>701.95</td>\n",
       "      <td>2022-01-01</td>\n",
       "      <td>0.0</td>\n",
       "      <td>1</td>\n",
       "      <td>INDIVIDUAL</td>\n",
       "      <td>25270.20</td>\n",
       "      <td>21087.93</td>\n",
       "    </tr>\n",
       "    <tr>\n",
       "      <th>...</th>\n",
       "      <td>...</td>\n",
       "      <td>...</td>\n",
       "      <td>...</td>\n",
       "      <td>...</td>\n",
       "      <td>...</td>\n",
       "      <td>...</td>\n",
       "      <td>...</td>\n",
       "      <td>...</td>\n",
       "      <td>...</td>\n",
       "      <td>...</td>\n",
       "      <td>...</td>\n",
       "      <td>...</td>\n",
       "      <td>...</td>\n",
       "      <td>...</td>\n",
       "      <td>...</td>\n",
       "      <td>...</td>\n",
       "      <td>...</td>\n",
       "      <td>...</td>\n",
       "      <td>...</td>\n",
       "      <td>...</td>\n",
       "      <td>...</td>\n",
       "    </tr>\n",
       "    <tr>\n",
       "      <th>24808</th>\n",
       "      <td>54190</td>\n",
       "      <td>123133</td>\n",
       "      <td>114358</td>\n",
       "      <td>11050</td>\n",
       "      <td>11050.0</td>\n",
       "      <td>1175.0</td>\n",
       "      <td>36</td>\n",
       "      <td>15.96</td>\n",
       "      <td>388.28</td>\n",
       "      <td>F</td>\n",
       "      <td>...</td>\n",
       "      <td>0.00</td>\n",
       "      <td>0.00</td>\n",
       "      <td>2014-05-01</td>\n",
       "      <td>388.27</td>\n",
       "      <td>2022-01-01</td>\n",
       "      <td>0.0</td>\n",
       "      <td>1</td>\n",
       "      <td>INDIVIDUAL</td>\n",
       "      <td>13978.08</td>\n",
       "      <td>10873.30</td>\n",
       "    </tr>\n",
       "    <tr>\n",
       "      <th>24809</th>\n",
       "      <td>54194</td>\n",
       "      <td>113179</td>\n",
       "      <td>113093</td>\n",
       "      <td>1000</td>\n",
       "      <td>1000.0</td>\n",
       "      <td>950.0</td>\n",
       "      <td>36</td>\n",
       "      <td>10.59</td>\n",
       "      <td>32.55</td>\n",
       "      <td>C</td>\n",
       "      <td>...</td>\n",
       "      <td>21.29</td>\n",
       "      <td>0.23</td>\n",
       "      <td>2015-05-01</td>\n",
       "      <td>32.55</td>\n",
       "      <td>2015-10-01</td>\n",
       "      <td>0.0</td>\n",
       "      <td>1</td>\n",
       "      <td>INDIVIDUAL</td>\n",
       "      <td>1171.80</td>\n",
       "      <td>467.85</td>\n",
       "    </tr>\n",
       "    <tr>\n",
       "      <th>24810</th>\n",
       "      <td>54198</td>\n",
       "      <td>111227</td>\n",
       "      <td>111223</td>\n",
       "      <td>20000</td>\n",
       "      <td>20000.0</td>\n",
       "      <td>2800.0</td>\n",
       "      <td>36</td>\n",
       "      <td>13.43</td>\n",
       "      <td>678.08</td>\n",
       "      <td>E</td>\n",
       "      <td>...</td>\n",
       "      <td>0.00</td>\n",
       "      <td>0.00</td>\n",
       "      <td>2016-02-01</td>\n",
       "      <td>678.08</td>\n",
       "      <td>2022-01-01</td>\n",
       "      <td>0.0</td>\n",
       "      <td>1</td>\n",
       "      <td>INDIVIDUAL</td>\n",
       "      <td>24410.88</td>\n",
       "      <td>4071.22</td>\n",
       "    </tr>\n",
       "    <tr>\n",
       "      <th>24811</th>\n",
       "      <td>54212</td>\n",
       "      <td>94406</td>\n",
       "      <td>94385</td>\n",
       "      <td>6725</td>\n",
       "      <td>12000.0</td>\n",
       "      <td>825.0</td>\n",
       "      <td>36</td>\n",
       "      <td>13.12</td>\n",
       "      <td>226.98</td>\n",
       "      <td>D</td>\n",
       "      <td>...</td>\n",
       "      <td>0.00</td>\n",
       "      <td>0.00</td>\n",
       "      <td>2015-04-01</td>\n",
       "      <td>42.11</td>\n",
       "      <td>2022-01-01</td>\n",
       "      <td>0.0</td>\n",
       "      <td>1</td>\n",
       "      <td>INDIVIDUAL</td>\n",
       "      <td>8171.28</td>\n",
       "      <td>3960.34</td>\n",
       "    </tr>\n",
       "    <tr>\n",
       "      <th>24812</th>\n",
       "      <td>54230</td>\n",
       "      <td>72323</td>\n",
       "      <td>70694</td>\n",
       "      <td>5000</td>\n",
       "      <td>5000.0</td>\n",
       "      <td>350.0</td>\n",
       "      <td>36</td>\n",
       "      <td>11.54</td>\n",
       "      <td>164.98</td>\n",
       "      <td>C</td>\n",
       "      <td>...</td>\n",
       "      <td>182.27</td>\n",
       "      <td>1.84</td>\n",
       "      <td>2014-03-01</td>\n",
       "      <td>164.97</td>\n",
       "      <td>2015-01-01</td>\n",
       "      <td>0.0</td>\n",
       "      <td>1</td>\n",
       "      <td>INDIVIDUAL</td>\n",
       "      <td>5939.28</td>\n",
       "      <td>4438.09</td>\n",
       "    </tr>\n",
       "  </tbody>\n",
       "</table>\n",
       "<p>24813 rows × 42 columns</p>\n",
       "</div>"
      ],
      "text/plain": [
       "       Unnamed: 0        id  member_id  loan_amount  funded_amount  \\\n",
       "0               0  38676116   41461848         8000         8000.0   \n",
       "1               1  38656203   41440010        13200        13200.0   \n",
       "2               4  38656121   41439927        15000        15000.0   \n",
       "3               5  38656111   41439917         2525         2525.0   \n",
       "4               7  38656067   41439872        26500        26500.0   \n",
       "...           ...       ...        ...          ...            ...   \n",
       "24808       54190    123133     114358        11050        11050.0   \n",
       "24809       54194    113179     113093         1000         1000.0   \n",
       "24810       54198    111227     111223        20000        20000.0   \n",
       "24811       54212     94406      94385         6725        12000.0   \n",
       "24812       54230     72323      70694         5000         5000.0   \n",
       "\n",
       "       funded_amount_inv  term  int_rate  instalment grade  ... recoveries  \\\n",
       "0                 8000.0    36      7.49      248.82     A  ...       0.00   \n",
       "1                13200.0    36      6.99      407.52     A  ...       0.00   \n",
       "2                15000.0    36      6.03      456.54     A  ...       0.00   \n",
       "3                 2525.0    36     11.44       83.20     B  ...       0.00   \n",
       "4                26200.0    36     19.99      701.95     E  ...       0.00   \n",
       "...                  ...   ...       ...         ...   ...  ...        ...   \n",
       "24808             1175.0    36     15.96      388.28     F  ...       0.00   \n",
       "24809              950.0    36     10.59       32.55     C  ...      21.29   \n",
       "24810             2800.0    36     13.43      678.08     E  ...       0.00   \n",
       "24811              825.0    36     13.12      226.98     D  ...       0.00   \n",
       "24812              350.0    36     11.54      164.98     C  ...     182.27   \n",
       "\n",
       "      collection_recovery_fee last_payment_date  last_payment_amount  \\\n",
       "0                        0.00        2022-01-01               248.82   \n",
       "1                        0.00        2022-01-01               407.52   \n",
       "2                        0.00        2022-01-01               456.54   \n",
       "3                        0.00        2022-01-01                91.39   \n",
       "4                        0.00        2021-08-01               701.95   \n",
       "...                       ...               ...                  ...   \n",
       "24808                    0.00        2014-05-01               388.27   \n",
       "24809                    0.23        2015-05-01                32.55   \n",
       "24810                    0.00        2016-02-01               678.08   \n",
       "24811                    0.00        2015-04-01                42.11   \n",
       "24812                    1.84        2014-03-01               164.97   \n",
       "\n",
       "      last_credit_pull_date collections_12_mths_ex_med policy_code  \\\n",
       "0                2022-01-01                        0.0           1   \n",
       "1                2022-01-01                        0.0           1   \n",
       "2                2022-01-01                        0.0           1   \n",
       "3                2022-01-01                        0.0           1   \n",
       "4                2022-01-01                        0.0           1   \n",
       "...                     ...                        ...         ...   \n",
       "24808            2022-01-01                        0.0           1   \n",
       "24809            2015-10-01                        0.0           1   \n",
       "24810            2022-01-01                        0.0           1   \n",
       "24811            2022-01-01                        0.0           1   \n",
       "24812            2015-01-01                        0.0           1   \n",
       "\n",
       "      application_type total_owed  total_remaining_to_pay  \n",
       "0           INDIVIDUAL    8957.52                 5975.01  \n",
       "1           INDIVIDUAL   14670.72                 9785.61  \n",
       "2           INDIVIDUAL   16435.44                10961.98  \n",
       "3           INDIVIDUAL    2995.20                 2081.60  \n",
       "4           INDIVIDUAL   25270.20                21087.93  \n",
       "...                ...        ...                     ...  \n",
       "24808       INDIVIDUAL   13978.08                10873.30  \n",
       "24809       INDIVIDUAL    1171.80                  467.85  \n",
       "24810       INDIVIDUAL   24410.88                 4071.22  \n",
       "24811       INDIVIDUAL    8171.28                 3960.34  \n",
       "24812       INDIVIDUAL    5939.28                 4438.09  \n",
       "\n",
       "[24813 rows x 42 columns]"
      ]
     },
     "execution_count": 382,
     "metadata": {},
     "output_type": "execute_result"
    }
   ],
   "source": [
    "##total owed - total paid gives what is still left to pay\n",
    "df[\"total_remaining_to_pay\"] = (df[\"total_owed\"] - df[\"total_payment\"])\n",
    "df"
   ]
  },
  {
   "cell_type": "code",
   "execution_count": 383,
   "metadata": {},
   "outputs": [
    {
     "data": {
      "text/plain": [
       "48.512195612684586"
      ]
     },
     "execution_count": 383,
     "metadata": {},
     "output_type": "execute_result"
    }
   ],
   "source": [
    "total_remaining_to_pay = df[\"total_remaining_to_pay\"].sum()\n",
    "total_owed = df[\"total_owed\"].sum()\n",
    "percentage_remaining = total_remaining_to_pay/total_owed*100\n",
    "percentage_remaining"
   ]
  },
  {
   "cell_type": "code",
   "execution_count": 384,
   "metadata": {},
   "outputs": [
    {
     "data": {
      "text/plain": [
       "64.797846231992"
      ]
     },
     "execution_count": 384,
     "metadata": {},
     "output_type": "execute_result"
    }
   ],
   "source": [
    "#how much will be paid back in 6 months - instalment amount * 6 added to total payment column then sum \n",
    "\n",
    "df[\"total_paid_in_6_months\"] = (df[\"instalment\"]*6) + df[\"total_payment\"]\n",
    "total_paid_in_6_months = df[\"total_paid_in_6_months\"].sum()\n",
    "percentage_paid_in_6_months = total_paid_in_6_months/total_owed*100\n",
    "percentage_paid_in_6_months"
   ]
  },
  {
   "cell_type": "code",
   "execution_count": 385,
   "metadata": {},
   "outputs": [
    {
     "data": {
      "text/plain": [
       "Text(0.5, 1.0, 'Percentage of loans recovered compared to percentage remaining to be paid')"
      ]
     },
     "execution_count": 385,
     "metadata": {},
     "output_type": "execute_result"
    },
    {
     "data": {
      "image/png": "[encoded data removed]",
      "text/plain": [
       "<Figure size 640x480 with 1 Axes>"
      ]
     },
     "metadata": {},
     "output_type": "display_data"
    }
   ],
   "source": [
    "import seaborn as sns\n",
    "results = pd.DataFrame({\"Category\": [\"Percentage Recovered\", \"Percentage Remaining\", \"Percentage Paid in 6 Months\"],\n",
    "                        \"Percentage\": [52, 48, 64]\n",
    "})\n",
    "sns.barplot(data=results, x=\"Category\", y=\"Percentage\", palette=\"Set2\").set_title(\"Percentage of loans recovered compared to percentage remaining to be paid\")"
   ]
  },
  {
   "cell_type": "code",
   "execution_count": 386,
   "metadata": {},
   "outputs": [],
   "source": [
    "## TASK 2 ###"
   ]
  },
  {
   "cell_type": "code",
   "execution_count": 387,
   "metadata": {},
   "outputs": [],
   "source": [
    "df = pd.read_csv(\"imputed.csv\", index_col=0)"
   ]
  },
  {
   "cell_type": "code",
   "execution_count": 388,
   "metadata": {},
   "outputs": [],
   "source": [
    "df[\"term\"] = df[\"term\"].str.replace(\"months\", \"\")\n",
    "df[\"term\"] = pd.to_numeric(df[\"term\"], errors='coerce')"
   ]
  },
  {
   "cell_type": "code",
   "execution_count": 389,
   "metadata": {},
   "outputs": [
    {
     "name": "stdout",
     "output_type": "stream",
     "text": [
      "Occurences of 'Charged Off': 5585\n",
      "total rows: 52037 \n",
      "percentage of loans that have been charged off: 10.732747852489574%\n"
     ]
    }
   ],
   "source": [
    "##percentage of charged off loans \n",
    "\n",
    "count_charged_off = len(df[df['loan_status'].str.contains('Charged Off')])\n",
    "print(f\"Occurences of 'Charged Off': {count_charged_off}\")\n",
    "\n",
    "total_rows = len(df)\n",
    "print(f\"total rows: {total_rows} \")\n",
    "\n",
    "percentage_charged_off = count_charged_off/total_rows*100\n",
    "print(f\"percentage of loans that have been charged off: {percentage_charged_off}%\")"
   ]
  },
  {
   "cell_type": "code",
   "execution_count": 390,
   "metadata": {},
   "outputs": [],
   "source": [
    "## total amount that was paid towards these loans before being charged off \n",
    "\n",
    "df_charged_off = df[df[\"loan_status\"].str.contains(\"Charged Off\")]\n",
    "df_charged_off.to_csv(\"charged_off_df.csv\")"
   ]
  },
  {
   "cell_type": "code",
   "execution_count": 391,
   "metadata": {},
   "outputs": [
    {
     "name": "stdout",
     "output_type": "stream",
     "text": [
      "The total amount paid towards the Charged Off loans before they were Charged Off was: 37729484.40350347\n"
     ]
    }
   ],
   "source": [
    "amount_paid = df_charged_off[\"total_payment\"].sum()\n",
    "print(f\"The total amount paid towards the Charged Off loans before they were Charged Off was: {amount_paid}\")"
   ]
  },
  {
   "cell_type": "code",
   "execution_count": 392,
   "metadata": {},
   "outputs": [],
   "source": [
    "## TASK 3 ###"
   ]
  },
  {
   "cell_type": "code",
   "execution_count": 393,
   "metadata": {},
   "outputs": [],
   "source": [
    "# calculate the loss in revenue from the loans not finishing their term \n",
    "# total to pay back back: term * instalment \n",
    "#total paid back = total_payment\n",
    "# last payment date - issue date will give how many months they paid until they stopped "
   ]
  },
  {
   "cell_type": "code",
   "execution_count": 394,
   "metadata": {},
   "outputs": [
    {
     "name": "stdout",
     "output_type": "stream",
     "text": [
      "The total to be paid back from all the charged off loans was: 103291401.36\n",
      "The total that was paid back before the accounts were Charged Off was: 37729484.40350347\n"
     ]
    }
   ],
   "source": [
    "df_charged_off[\"total_to_pay\"] = df_charged_off[\"term\"] * df_charged_off[\"instalment\"]\n",
    "sum_total_to_pay = df_charged_off[\"total_to_pay\"].sum()\n",
    "print(f\"The total to be paid back from all the charged off loans was: {sum_total_to_pay}\")\n",
    "total_paid = df_charged_off[\"total_payment\"].sum()\n",
    "print(f\"The total that was paid back before the accounts were Charged Off was: {total_paid}\")"
   ]
  },
  {
   "cell_type": "code",
   "execution_count": 395,
   "metadata": {},
   "outputs": [
    {
     "name": "stdout",
     "output_type": "stream",
     "text": [
      "The loss in revenue from unpaid loans is: 65561916.95649653\n"
     ]
    }
   ],
   "source": [
    "loss_in_revenue = sum_total_to_pay - total_paid\n",
    "print(f\"The loss in revenue from unpaid loans is: {loss_in_revenue}\")"
   ]
  },
  {
   "cell_type": "code",
   "execution_count": 396,
   "metadata": {},
   "outputs": [
    {
     "data": {
      "text/plain": [
       "Text(0.5, 1.0, 'Projected loss from unpaid loans')"
      ]
     },
     "execution_count": 396,
     "metadata": {},
     "output_type": "execute_result"
    },
    {
     "data": {
      "image/png": "[encoded data removed]",
      "text/plain": [
       "<Figure size 640x480 with 1 Axes>"
      ]
     },
     "metadata": {},
     "output_type": "display_data"
    }
   ],
   "source": [
    "import seaborn as sns\n",
    "results = pd.DataFrame({\"Category\": [\"Total Owed\", \"Total Repaid\", \"Total Loss\"],\n",
    "                        \"Amount\": [103291401, 37729484, 65561916]\n",
    "})\n",
    "sns.barplot(data=results, x=\"Category\", y=\"Amount\", palette=\"Set2\").set_title(\"Projected loss from unpaid loans\")"
   ]
  },
  {
   "cell_type": "code",
   "execution_count": 397,
   "metadata": {},
   "outputs": [],
   "source": [
    "## TASK 4 ###"
   ]
  },
  {
   "cell_type": "code",
   "execution_count": 398,
   "metadata": {},
   "outputs": [
    {
     "data": {
      "text/plain": [
       "array(['Current', 'Fully Paid', 'Charged Off', 'Late (31-120 days)',\n",
       "       'In Grace Period', 'Late (16-30 days)', 'Default',\n",
       "       'Does not meet the credit policy. Status:Fully Paid',\n",
       "       'Does not meet the credit policy. Status:Charged Off'],\n",
       "      dtype=object)"
      ]
     },
     "execution_count": 398,
     "metadata": {},
     "output_type": "execute_result"
    }
   ],
   "source": [
    "df[\"loan_status\"].unique()"
   ]
  },
  {
   "cell_type": "code",
   "execution_count": 399,
   "metadata": {},
   "outputs": [
    {
     "name": "stdout",
     "output_type": "stream",
     "text": [
      "The number of customers behind with their payments is: 901\n",
      "Percentage of customers behind with their payments is: 1.7314603070891867\n"
     ]
    }
   ],
   "source": [
    "customers_late_payments = len(df[df[\"loan_status\"].str.contains(\"Late|In Grace Period\")])\n",
    "print(f\"The number of customers behind with their payments is: {customers_late_payments}\")\n",
    "percentage_at_risk = customers_late_payments/total_rows*100\n",
    "print(f\"Percentage of customers behind with their payments is: {percentage_at_risk}\")"
   ]
  },
  {
   "cell_type": "code",
   "execution_count": 400,
   "metadata": {},
   "outputs": [],
   "source": [
    "##add up remaining owed rows where loan status is grace period or late \n",
    "df_loss_risk = df[df[\"loan_status\"].str.contains(\"Late|In Grace Period\")]"
   ]
  },
  {
   "cell_type": "code",
   "execution_count": 401,
   "metadata": {},
   "outputs": [
    {
     "name": "stdout",
     "output_type": "stream",
     "text": [
      "Total paid so far: 9737968.499999996\n",
      "Total to pay over whole term: 19227040.560000002\n",
      "The company would lose 9489072.060000006 if the status of customers behind on their payments was changed to Charged Off\n"
     ]
    }
   ],
   "source": [
    "total_paid = sum(df_loss_risk[\"total_payment\"])\n",
    "print(f\"Total paid so far: {total_paid}\")\n",
    "total_to_pay = df_loss_risk[\"term\"] * df_loss_risk[\"instalment\"]\n",
    "total_over_term = total_to_pay.sum()\n",
    "print(f\"Total to pay over whole term: {total_over_term}\")\n",
    "potential_loss = total_over_term-total_paid\n",
    "print(f\"The company would lose {potential_loss} if the status of customers behind on their payments was changed to Charged Off\")"
   ]
  },
  {
   "cell_type": "code",
   "execution_count": 402,
   "metadata": {},
   "outputs": [
    {
     "name": "stdout",
     "output_type": "stream",
     "text": [
      "If customers that are late on payments converted to Charged off, the percentage of total expected revenue of these customers and customers who have already defaulted on their loan would be: 10.732747852489574%\n"
     ]
    }
   ],
   "source": [
    "df_2 = df[df[\"loan_status\"].str.contains(\"Late|In Grace Period|Charged Off\")]\n",
    "df_2[\"total_expected_revenue\"] = df_2[\"term\"]*df_2[\"instalment\"]\n",
    "df[\"total_revenue\"] = df[\"term\"] * df[\"instalment\"]\n",
    "total_expected_reveune = df_2[\"total_expected_revenue\"].sum()\n",
    "total_revenue = df[\"total_revenue\"].sum()\n",
    "perfentage_charged_off = total_expected_reveune/total_revenue*100\n",
    "print(f\"If customers that are late on payments converted to Charged off, the percentage of total expected revenue of these customers and customers who have already defaulted on their loan would be: {percentage_charged_off}%\")"
   ]
  },
  {
   "cell_type": "code",
   "execution_count": 403,
   "metadata": {},
   "outputs": [],
   "source": [
    "## TASK 5 ###"
   ]
  },
  {
   "cell_type": "code",
   "execution_count": 404,
   "metadata": {},
   "outputs": [],
   "source": [
    "df_loss_risk.to_csv(\"loss_risk.csv\")"
   ]
  },
  {
   "cell_type": "code",
   "execution_count": 405,
   "metadata": {},
   "outputs": [
    {
     "name": "stdout",
     "output_type": "stream",
     "text": [
      "Most common grade in charged off status is: 0    C\n",
      "Name: grade, dtype: object\n",
      "Most common grade in at risk status is: 0    C\n",
      "Name: grade, dtype: object\n"
     ]
    }
   ],
   "source": [
    "grade_loss_risk = df_loss_risk[\"grade\"].mode()\n",
    "grade_charged_off = df_charged_off[\"grade\"].mode()\n",
    "print(f\"Most common grade in charged off status is: {grade_charged_off}\")\n",
    "print(f\"Most common grade in at risk status is: {grade_loss_risk}\")\n"
   ]
  },
  {
   "cell_type": "code",
   "execution_count": 406,
   "metadata": {},
   "outputs": [
    {
     "name": "stdout",
     "output_type": "stream",
     "text": [
      "Most common purpose in charged off status is: 0    debt_consolidation\n",
      "Name: purpose, dtype: object\n",
      "Most common purpose in at risk status is: 0    debt_consolidation\n",
      "Name: purpose, dtype: object\n"
     ]
    }
   ],
   "source": [
    "purpose_loss_risk = df_loss_risk[\"purpose\"].mode()\n",
    "purpose_charged_off = df_charged_off[\"purpose\"].mode()\n",
    "print(f\"Most common purpose in charged off status is: {purpose_charged_off}\")\n",
    "print(f\"Most common purpose in at risk status is: {purpose_loss_risk}\")"
   ]
  },
  {
   "cell_type": "code",
   "execution_count": 407,
   "metadata": {},
   "outputs": [
    {
     "name": "stdout",
     "output_type": "stream",
     "text": [
      "Most common home ownership in charged off status is: 0    RENT\n",
      "Name: home_ownership, dtype: object\n",
      "Most common home ownership in at risk status is: 0    RENT\n",
      "Name: home_ownership, dtype: object\n"
     ]
    }
   ],
   "source": [
    "home_ownership_loss_risk = df_loss_risk[\"home_ownership\"].mode()\n",
    "home_ownership_charged_off = df_charged_off[\"home_ownership\"].mode()\n",
    "print(f\"Most common home ownership in charged off status is: {home_ownership_charged_off}\")\n",
    "print(f\"Most common home ownership in at risk status is: {home_ownership_loss_risk}\")"
   ]
  },
  {
   "cell_type": "code",
   "execution_count": 408,
   "metadata": {},
   "outputs": [
    {
     "name": "stdout",
     "output_type": "stream",
     "text": [
      "Most common interest rate in charged off status is: 0    13.17\n",
      "Name: int_rate, dtype: float64\n",
      "Most common interest rate in at risk status is: 0    13.17\n",
      "Name: int_rate, dtype: float64\n"
     ]
    }
   ],
   "source": [
    "int_rate_loss_risk = df_loss_risk[\"int_rate\"].mode()\n",
    "int_rate_charged_off = df_charged_off[\"int_rate\"].mode()\n",
    "print(f\"Most common interest rate in charged off status is: {int_rate_charged_off}\")\n",
    "print(f\"Most common interest rate in at risk status is: {int_rate_loss_risk}\")"
   ]
  },
  {
   "cell_type": "code",
   "execution_count": 409,
   "metadata": {},
   "outputs": [
    {
     "name": "stdout",
     "output_type": "stream",
     "text": [
      "Average interest rate in charged off status is: 15.103955237242614\n",
      "Average interest rate in at risk status is: 15.898435072142064\n"
     ]
    }
   ],
   "source": [
    "int_rate_loss_risk = df_loss_risk[\"int_rate\"].mean()\n",
    "int_rate_charged_off = df_charged_off[\"int_rate\"].mean()\n",
    "print(f\"Average interest rate in charged off status is: {int_rate_charged_off}\")\n",
    "print(f\"Average interest rate in at risk status is: {int_rate_loss_risk}\")"
   ]
  },
  {
   "cell_type": "code",
   "execution_count": null,
   "metadata": {},
   "outputs": [],
   "source": []
  }
 ],
 "metadata": {
  "kernelspec": {
   "display_name": "base",
   "language": "python",
   "name": "python3"
  },
  "language_info": {
   "codemirror_mode": {
    "name": "ipython",
    "version": 3
   },
   "file_extension": ".py",
   "mimetype": "text/x-python",
   "name": "python",
   "nbconvert_exporter": "python",
   "pygments_lexer": "ipython3",
   "version": "3.11.4"
  }
 },
 "nbformat": 4,
 "nbformat_minor": 2
}
